{
 "cells": [
  {
   "cell_type": "code",
   "execution_count": 1,
   "metadata": {},
   "outputs": [],
   "source": [
    "import numpy as np\n",
    "import pandas as pd\n",
    "from sklearn.model_selection import train_test_split\n",
    "from sklearn.feature_selection import VarianceThreshold\n",
    "from classfiles.feature_selection import FeatureSelectionMutualInfo"
   ]
  },
  {
   "cell_type": "code",
   "execution_count": 2,
   "metadata": {},
   "outputs": [],
   "source": [
    "obj1 = FeatureSelectionMutualInfo('../data/dataset_2.csv')"
   ]
  },
  {
   "cell_type": "code",
   "execution_count": 3,
   "metadata": {},
   "outputs": [
    {
     "name": "stdout",
     "output_type": "stream",
     "text": [
      "<class 'pandas.core.frame.DataFrame'>\n",
      "RangeIndex: 50000 entries, 0 to 49999\n",
      "Columns: 109 entries, var_1 to var_109\n",
      "dtypes: float64(108), int64(1)\n",
      "memory usage: 41.6 MB\n"
     ]
    }
   ],
   "source": [
    "obj1.dataframe_info()"
   ]
  },
  {
   "cell_type": "code",
   "execution_count": 4,
   "metadata": {},
   "outputs": [
    {
     "name": "stdout",
     "output_type": "stream",
     "text": [
      "           count       mean       std           min       25%        50%        75%        max\n",
      "var_1    50000.0   4.704039  1.720424 -9.783926e-07  3.677419   4.704951   5.682472  20.000000\n",
      "var_2    50000.0   6.880031  2.389773 -3.471477e-07  5.349017   6.825840   8.268947  19.385331\n",
      "var_3    50000.0  11.514358  6.596539 -9.814835e-07  5.420063  13.760467  17.425532  20.000001\n",
      "var_4    50000.0   3.892582  0.678187 -7.494901e-07  3.469558   3.873594   4.289362  20.000000\n",
      "var_5    50000.0   2.048636  0.871068  4.039061e-07  1.461370   1.878110   2.426291  12.169847\n",
      "...          ...        ...       ...           ...       ...        ...        ...        ...\n",
      "var_105  50000.0   6.975261  1.219799  7.369675e-07  6.196721   7.025433   7.798224  15.110784\n",
      "var_106  50000.0   1.550717  0.542883 -9.452659e-07  1.204462   1.483185   1.812842  13.006352\n",
      "var_107  50000.0   1.660071  1.075348 -9.775950e-07  0.967742   1.516666   2.171428  18.799999\n",
      "var_108  50000.0   1.804478  1.339689 -9.578620e-07  1.008315   1.273522   2.079650  18.163238\n",
      "var_109  50000.0   2.296217  1.342662 -5.863368e-07  1.544505   2.068721   2.679764  20.000001\n",
      "\n",
      "[109 rows x 8 columns]\n"
     ]
    }
   ],
   "source": [
    "obj1.dataframe_stats()"
   ]
  },
  {
   "cell_type": "markdown",
   "metadata": {},
   "source": [
    "\n",
    "# Mutual information\n",
    "\n",
    "The mutual information measures the reduction in uncertainty in variable A when variable B is known.<br>\n",
    "\n",
    "To select variables, we are interested in the mutual information between the predictor variables and the target. Higher mutual information values, indicate little uncertainty about the target Y given the predictor X.<br>\n",
    "\n",
    "Mutual Information, Wikipedia:<br>\n",
    "\n",
    "Using Scikit-learn, we can determine the mutual information between a variable and the target using the mutual_info_classif or mutual_info_regression for binary or continuous targets.<br>"
   ]
  },
  {
   "cell_type": "code",
   "execution_count": 5,
   "metadata": {},
   "outputs": [
    {
     "name": "stdout",
     "output_type": "stream",
     "text": [
      "----Fit Summary------\n",
      "---------------------\n",
      "The train shape before fit is (35000, 108)\n",
      "The train shape after fit is (35000, 20)\n",
      "The test shape before fit is (15000, 108)\n",
      "The test shape after fit is (35000, 20)\n",
      "The below features are retained\n",
      "Index(['var_2', 'var_6', 'var_7', 'var_14', 'var_16', 'var_21', 'var_33',\n",
      "       'var_34', 'var_48', 'var_55', 'var_57', 'var_69', 'var_73', 'var_78',\n",
      "       'var_86', 'var_91', 'var_96', 'var_98', 'var_100', 'var_108'],\n",
      "      dtype='object')\n"
     ]
    }
   ],
   "source": [
    "mi=obj1.mutual_info(target='target',m_type='classification',select_style='kbest',select_value=20)"
   ]
  },
  {
   "cell_type": "code",
   "execution_count": 6,
   "metadata": {},
   "outputs": [
    {
     "name": "stdout",
     "output_type": "stream",
     "text": [
      "----Fit Summary------\n",
      "---------------------\n",
      "The train shape before fit is (35000, 108)\n",
      "The train shape after fit is (35000, 6)\n",
      "The test shape before fit is (15000, 108)\n",
      "The test shape after fit is (35000, 6)\n",
      "The below features are retained\n",
      "Index(['var_16', 'var_34', 'var_55', 'var_69', 'var_96', 'var_108'], dtype='object')\n"
     ]
    },
    {
     "data": {
      "text/plain": [
       "var_1      0.000000\n",
       "var_2      0.003619\n",
       "var_3      0.000000\n",
       "var_4      0.000911\n",
       "var_5      0.000448\n",
       "             ...   \n",
       "var_105    0.000000\n",
       "var_106    0.001888\n",
       "var_107    0.000000\n",
       "var_108    0.019005\n",
       "var_109    0.000040\n",
       "Length: 108, dtype: float64"
      ]
     },
     "execution_count": 6,
     "metadata": {},
     "output_type": "execute_result"
    }
   ],
   "source": [
    "obj2 = FeatureSelectionMutualInfo('../data/dataset_2.csv')\n",
    "obj2.mutual_info(target='target',m_type='classification',select_style='percentile',select_value=5)"
   ]
  },
  {
   "cell_type": "code",
   "execution_count": 7,
   "metadata": {},
   "outputs": [
    {
     "name": "stderr",
     "output_type": "stream",
     "text": [
      "c:\\program files\\python38\\lib\\site-packages\\pandas\\core\\frame.py:4252: SettingWithCopyWarning: \n",
      "A value is trying to be set on a copy of a slice from a DataFrame\n",
      "\n",
      "See the caveats in the documentation: http://pandas.pydata.org/pandas-docs/stable/user_guide/indexing.html#returning-a-view-versus-a-copy\n",
      "  return super().fillna(\n"
     ]
    },
    {
     "name": "stdout",
     "output_type": "stream",
     "text": [
      "----Fit Summary------\n",
      "---------------------\n",
      "The train shape before fit is (1022, 80)\n",
      "The train shape after fit is (1022, 5)\n",
      "The test shape before fit is (438, 80)\n",
      "The test shape after fit is (1022, 5)\n",
      "The below features are retained\n",
      "Index(['FullBath', 'HalfBath', 'KitchenAbvGr', 'Fireplaces', 'GarageCars'], dtype='object')\n"
     ]
    }
   ],
   "source": [
    "obj3 = FeatureSelectionMutualInfo('../data/housing_data_train.csv')\n",
    "mi=obj3.mutual_info(target='SalePrice',m_type='regression',select_style='kbest',select_value=5)"
   ]
  },
  {
   "cell_type": "code",
   "execution_count": 8,
   "metadata": {},
   "outputs": [
    {
     "name": "stderr",
     "output_type": "stream",
     "text": [
      "c:\\program files\\python38\\lib\\site-packages\\pandas\\core\\frame.py:4252: SettingWithCopyWarning: \n",
      "A value is trying to be set on a copy of a slice from a DataFrame\n",
      "\n",
      "See the caveats in the documentation: http://pandas.pydata.org/pandas-docs/stable/user_guide/indexing.html#returning-a-view-versus-a-copy\n",
      "  return super().fillna(\n"
     ]
    },
    {
     "name": "stdout",
     "output_type": "stream",
     "text": [
      "----Fit Summary------\n",
      "---------------------\n",
      "The train shape before fit is (1022, 80)\n",
      "The train shape after fit is (1022, 4)\n",
      "The test shape before fit is (438, 80)\n",
      "The test shape after fit is (1022, 4)\n",
      "The below features are retained\n",
      "Index(['FullBath', 'KitchenAbvGr', 'Fireplaces', 'GarageCars'], dtype='object')\n"
     ]
    }
   ],
   "source": [
    "obj4 = FeatureSelectionMutualInfo('../data/housing_data_train.csv')\n",
    "mi=obj4.mutual_info(target='SalePrice',m_type='regression',select_style='percentile',select_value=10)"
   ]
  }
 ],
 "metadata": {
  "kernelspec": {
   "display_name": "Python 3",
   "language": "python",
   "name": "python3"
  },
  "language_info": {
   "codemirror_mode": {
    "name": "ipython",
    "version": 3
   },
   "file_extension": ".py",
   "mimetype": "text/x-python",
   "name": "python",
   "nbconvert_exporter": "python",
   "pygments_lexer": "ipython3",
   "version": "3.8.3"
  }
 },
 "nbformat": 4,
 "nbformat_minor": 4
}
