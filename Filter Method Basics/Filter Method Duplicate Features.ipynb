{
 "cells": [
  {
   "cell_type": "code",
   "execution_count": 1,
   "metadata": {},
   "outputs": [],
   "source": [
    "import numpy as np\n",
    "import pandas as pd\n",
    "from sklearn.model_selection import train_test_split\n",
    "from sklearn.feature_selection import VarianceThreshold\n",
    "import seaborn as sns\n",
    "from matplotlib import pyplot as plt\n",
    "from itertools import compress\n",
    "from sklearn.metrics.pairwise import cosine_similarity\n",
    "from classfiles.feature_selection import FilterMethodDuplicateFeatures"
   ]
  },
  {
   "cell_type": "code",
   "execution_count": 2,
   "metadata": {},
   "outputs": [],
   "source": [
    "obj1 = FilterMethodDuplicateFeatures('../data/dataset_1.csv')"
   ]
  },
  {
   "cell_type": "code",
   "execution_count": 3,
   "metadata": {},
   "outputs": [
    {
     "name": "stdout",
     "output_type": "stream",
     "text": [
      "<class 'pandas.core.frame.DataFrame'>\n",
      "RangeIndex: 50000 entries, 0 to 49999\n",
      "Columns: 301 entries, var_1 to target\n",
      "dtypes: float64(127), int64(174)\n",
      "memory usage: 114.8 MB\n"
     ]
    }
   ],
   "source": [
    "obj1.dataframe_info()"
   ]
  },
  {
   "cell_type": "code",
   "execution_count": 4,
   "metadata": {},
   "outputs": [
    {
     "name": "stdout",
     "output_type": "stream",
     "text": [
      "           count         mean           std  min  25%   50%  75%           max\n",
      "var_1    50000.0     0.002220      0.108145  0.0  0.0  0.00  0.0  9.000000e+00\n",
      "var_2    50000.0     0.000060      0.007746  0.0  0.0  0.00  0.0  1.000000e+00\n",
      "var_3    50000.0    15.593002   1280.571855  0.0  0.0  0.00  0.0  2.079013e+05\n",
      "var_4    50000.0     3.149633      2.740114  0.0  0.0  2.85  3.0  3.528000e+01\n",
      "var_5    50000.0   608.681764  10951.361737  0.0  0.0  0.00  0.0  4.455000e+05\n",
      "...          ...          ...           ...  ...  ...   ...  ...           ...\n",
      "var_297  50000.0     0.000000      0.000000  0.0  0.0  0.00  0.0  0.000000e+00\n",
      "var_298  50000.0     0.003060      0.078808  0.0  0.0  0.00  0.0  3.000000e+00\n",
      "var_299  50000.0    12.462960    832.417622  0.0  0.0  0.00  0.0  1.346667e+05\n",
      "var_300  50000.0  5683.960293  47364.820421  0.0  0.0  0.00  0.0  2.857673e+06\n",
      "target   50000.0     0.039820      0.195538  0.0  0.0  0.00  0.0  1.000000e+00\n",
      "\n",
      "[301 rows x 8 columns]\n"
     ]
    }
   ],
   "source": [
    "obj1.dataframe_stats()"
   ]
  },
  {
   "cell_type": "code",
   "execution_count": 5,
   "metadata": {},
   "outputs": [
    {
     "name": "stdout",
     "output_type": "stream",
     "text": [
      "--------summary of duplicate features------------------\n",
      "There are a total of 6 duplicate features\n",
      "--------------------------------------------------------------\n",
      "var_148 is a duplicate of var_37 and will be dropped\n",
      "var_199 is a duplicate of var_84 and will be dropped\n",
      "var_296 is a duplicate of var_143 and will be dropped\n",
      "var_250 is a duplicate of var_177 and will be dropped\n",
      "var_232 is a duplicate of var_226 and will be dropped\n",
      "var_269 is a duplicate of var_229 and will be dropped\n",
      "--------------------------------------------------------------\n",
      "Train Shape before drop (15000, 158)\n",
      "Train Shape after drop (15000, 152)\n",
      "Test Shape before drop (35000, 158)\n",
      "Test Shape after drop (35000, 152)\n"
     ]
    }
   ],
   "source": [
    "obj1.duplicate_features(target='target')"
   ]
  }
 ],
 "metadata": {
  "kernelspec": {
   "display_name": "Python 3",
   "language": "python",
   "name": "python3"
  },
  "language_info": {
   "codemirror_mode": {
    "name": "ipython",
    "version": 3
   },
   "file_extension": ".py",
   "mimetype": "text/x-python",
   "name": "python",
   "nbconvert_exporter": "python",
   "pygments_lexer": "ipython3",
   "version": "3.8.3"
  }
 },
 "nbformat": 4,
 "nbformat_minor": 4
}
